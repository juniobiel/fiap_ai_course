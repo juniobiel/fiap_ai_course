{
 "cells": [
  {
   "cell_type": "code",
   "execution_count": null,
   "id": "ec46895f",
   "metadata": {
    "vscode": {
     "languageId": "plaintext"
    }
   },
   "outputs": [],
   "source": [
    "import json\n",
    "from ibm_watson import NaturalLanguageUnderstandingV1\n",
    "from ibm_cloud_sdk_core.authenticators import IAMAuthenticator\n",
    "from ibm_watson.natural_language_understanding_v1 \\\n",
    "    import Features, ConceptsOptions, RelationsOptions, EmotionOptions, EntitiesOptions, SemanticRolesOptions, SentimentOptions\n",
    "\n",
    "authenticator = IAMAuthenticator('nL-KA2KSB_e4BWJflNRfqdyN_jEvhmdVU1z1HXsoikaf')\n",
    "natural_language_understanding = NaturalLanguageUnderstandingV1(\n",
    "    version='2022-04-07',\n",
    "    authenticator=authenticator\n",
    ")\n",
    "\n",
    "natural_language_understanding.set_service_url('https://api.us-south.natural-language-understanding.watson.cloud.ibm.com/instances/2a58586e-6807-4c25-acff-50c657573638')\n",
    "\n",
    "response = natural_language_understanding.analyze(\n",
    "    text= 'Who is the president of Brazil?',\n",
    "    features=Features(\n",
    "        concepts=ConceptsOptions(),\n",
    "        emotion=EmotionOptions(),\n",
    "        entities=EntitiesOptions(),\n",
    "        sentiment=SentimentOptions(),\n",
    "    ))\n",
    "\n",
    "print(json.dumps(response.result, indent=2))\n"
   ]
  },
  {
   "cell_type": "code",
   "execution_count": null,
   "id": "d34a2624",
   "metadata": {
    "vscode": {
     "languageId": "plaintext"
    }
   },
   "outputs": [],
   "source": [
    "response = natural_language_understanding.analyze(\n",
    "  text='Steve Jobs is the founder of Apple',\n",
    "  features=Features(\n",
    "    entities=EntitiesOptions(),\n",
    "    semantic_roles=SemanticRolesOptions(),\n",
    "    ))\n",
    "\n",
    "print(json.dumps(response.result, indent=2))"
   ]
  },
  {
   "cell_type": "code",
   "execution_count": null,
   "id": "c54a29c6",
   "metadata": {
    "vscode": {
     "languageId": "plaintext"
    }
   },
   "outputs": [],
   "source": [
    "response = natural_language_understanding.analyze(\n",
    "  text='Na FIAP, os alunos são muito dedicados.',\n",
    "  features=Features(\n",
    "    relations=RelationsOptions(),\n",
    "    concepts=ConceptsOptions(),\n",
    "    emotion=EmotionOptions(),\n",
    "    entities=EntitiesOptions(),\n",
    "    semantic_roles=SemanticRolesOptions(),\n",
    "    sentiment=SentimentOptions(),\n",
    "    ))\n",
    "\n",
    "print(json.dumps(response.result, indent=2))"
   ]
  }
 ],
 "metadata": {
  "language_info": {
   "name": "python"
  }
 },
 "nbformat": 4,
 "nbformat_minor": 5
}
